{
 "cells": [
  {
   "cell_type": "code",
   "execution_count": null,
   "metadata": {},
   "outputs": [],
   "source": [
    "import os\n",
    "import json\n",
    "import numpy as np\n",
    "from PIL import Image\n",
    "from sklearn.model_selection import train_test_split\n",
    "import torch\n",
    "import torch.nn as nn\n",
    "from torch.utils.data import Dataset, DataLoader\n",
    "from torchvision import transforms\n",
    "import torchvision.models as models\n",
    "from torch.optim import Adam\n",
    "from tqdm import tqdm\n",
    "\n",
    "# data_path = \"~/scratch/CS_6476_project_code/data/processed_data/\"\n",
    "data_path = \"../data/processed_data/\"\n",
    "\n",
    "%load_ext autoreload\n",
    "%autoreload 2\n",
    "\n",
    "from utils import create_image_labels_list\n",
    "from utils import split_data\n",
    "from utils import create_data_loaders\n",
    "from utils import compute_mean_and_std"
   ]
  },
  {
   "cell_type": "code",
   "execution_count": null,
   "metadata": {},
   "outputs": [],
   "source": [
    "seed = 42\n",
    "\n",
    "# create image labels from annotations\n",
    "image_labels, _ = create_image_labels_list(data_path)\n",
    "print(image_labels[0:3])"
   ]
  },
  {
   "cell_type": "code",
   "execution_count": null,
   "metadata": {},
   "outputs": [],
   "source": [
    "print(len(image_labels))\n",
    "\n",
    "num_1s = 0\n",
    "for img in image_labels:\n",
    "    if img[1] == 1:\n",
    "        num_1s += 1\n",
    "\n",
    "print(num_1s)\n",
    "# 53k 1s out of 83k images"
   ]
  },
  {
   "cell_type": "code",
   "execution_count": null,
   "metadata": {},
   "outputs": [],
   "source": [
    "# split data\n",
    "#############################################\n",
    "# How much train data do we want to use?\n",
    "train_size = 10000\n",
    "#############################################\n",
    "test_size, val_size = 2000, 2000\n",
    "train_data, val_data, test_data = split_data(\n",
    "    image_labels, train_size, val_size, test_size, seed\n",
    ")\n",
    "\n",
    "# num_categories = len(image_labels[0][1])\n",
    "num_categories = 1\n",
    "print(num_categories)"
   ]
  },
  {
   "cell_type": "code",
   "execution_count": null,
   "metadata": {},
   "outputs": [],
   "source": [
    "print(len(test_data))\n",
    "print(test_data[0])\n",
    "\n",
    "print(len(val_data))\n",
    "print(val_data[0])\n",
    "\n",
    "print(len(train_data))\n",
    "print(train_data[0])\n",
    "\n",
    "# train_data data points vary with train_size, test and val remain constant with everything, as intended"
   ]
  },
  {
   "cell_type": "code",
   "execution_count": null,
   "metadata": {},
   "outputs": [],
   "source": [
    "image_root_dir = data_path + \"images/\"\n",
    "\n",
    "# calculate mean and std from train_data\n",
    "mean, std = compute_mean_and_std(image_root_dir, train_data)\n",
    "print(f\"Trainset mean = {mean}, std = {std}\")\n",
    "\n",
    "# create Torch DataLoaders\n",
    "transform = transforms.Compose([\n",
    "    transforms.Resize((224, 224)),\n",
    "    transforms.ToTensor(),\n",
    "    transforms.Normalize(mean=mean, std=std),\n",
    "])\n",
    "\n",
    "batch_size=32\n",
    "train_loader, val_loader, test_loader = create_data_loaders(\n",
    "    train_data, val_data, test_data, image_root_dir, batch_size, transform\n",
    ")"
   ]
  },
  {
   "cell_type": "code",
   "execution_count": null,
   "metadata": {},
   "outputs": [],
   "source": [
    "from models import get_model"
   ]
  },
  {
   "cell_type": "code",
   "execution_count": null,
   "metadata": {},
   "outputs": [],
   "source": [
    "model_vgg = get_model(\"vgg16\", tune_conv=True, num_categories=num_categories, dropout_rate=0.5)\n",
    "print(model_vgg)"
   ]
  },
  {
   "cell_type": "code",
   "execution_count": null,
   "metadata": {},
   "outputs": [],
   "source": [
    "model_resnet = get_model(\"resnet50\", tune_conv=True, num_categories=num_categories, dropout_rate=0.5)\n",
    "print(model_resnet)"
   ]
  },
  {
   "cell_type": "code",
   "execution_count": null,
   "metadata": {},
   "outputs": [],
   "source": [
    "for name, param in model_vgg.named_parameters():\n",
    "    print(f\"Layer: {name}, Requires Grad: {param.requires_grad}\")"
   ]
  },
  {
   "cell_type": "code",
   "execution_count": null,
   "metadata": {},
   "outputs": [],
   "source": [
    "for name, param in model_resnet.named_parameters():\n",
    "    print(f\"Layer: {name}, Requires Grad: {param.requires_grad}\")"
   ]
  },
  {
   "cell_type": "code",
   "execution_count": null,
   "metadata": {},
   "outputs": [],
   "source": []
  }
 ],
 "metadata": {
  "kernelspec": {
   "display_name": "Python 3",
   "language": "python",
   "name": "python3"
  },
  "language_info": {
   "codemirror_mode": {
    "name": "ipython",
    "version": 3
   },
   "file_extension": ".py",
   "mimetype": "text/x-python",
   "name": "python",
   "nbconvert_exporter": "python",
   "pygments_lexer": "ipython3",
   "version": "3.10.13"
  }
 },
 "nbformat": 4,
 "nbformat_minor": 2
}
